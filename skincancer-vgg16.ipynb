{
 "cells": [
  {
   "cell_type": "code",
   "execution_count": 1,
   "metadata": {
    "tags": []
   },
   "outputs": [
    {
     "name": "stdout",
     "output_type": "stream",
     "text": [
      "Collecting keras-drop-block\n",
      "  Downloading keras-drop-block-0.7.0.tar.gz (4.5 kB)\n",
      "  Preparing metadata (setup.py) ... \u001b[?25ldone\n",
      "\u001b[?25hBuilding wheels for collected packages: keras-drop-block\n",
      "  Building wheel for keras-drop-block (setup.py) ... \u001b[?25ldone\n",
      "\u001b[?25h  Created wheel for keras-drop-block: filename=keras_drop_block-0.7.0-py3-none-any.whl size=6253 sha256=55f6cad35d7e9462a718cc3f7780a2f88327d366f2e1205e0af0f70a3b52da9e\n",
      "  Stored in directory: /Users/rakibuddin/Library/Caches/pip/wheels/91/2a/81/77fa625804f1ff5bbe6b6f088e8153f9c4c9a379bf5061f151\n",
      "Successfully built keras-drop-block\n",
      "Installing collected packages: keras-drop-block\n",
      "Successfully installed keras-drop-block-0.7.0\n"
     ]
    }
   ],
   "source": [
    "!pip install keras-drop-block"
   ]
  },
  {
   "cell_type": "code",
   "execution_count": 2,
   "metadata": {
    "_cell_guid": "b1076dfc-b9ad-4769-8c92-a6c4dae69d19",
    "_uuid": "8f2839f25d086af736a60e9eeb907d3b93b6e0e5",
    "tags": []
   },
   "outputs": [
    {
     "ename": "ImportError",
     "evalue": "cannot import name 'EfficientNetB4' from 'tensorflow.keras.applications' (/Users/rakibuddin/opt/anaconda3/envs/Deep/lib/python3.7/site-packages/tensorflow_core/python/keras/api/_v2/keras/applications/__init__.py)",
     "output_type": "error",
     "traceback": [
      "\u001b[0;31m---------------------------------------------------------------------------\u001b[0m",
      "\u001b[0;31mImportError\u001b[0m                               Traceback (most recent call last)",
      "\u001b[0;32m/var/folders/vc/7ydlbf9d5bnfby5yx5ydt5dr0000gn/T/ipykernel_1147/595936323.py\u001b[0m in \u001b[0;36m<module>\u001b[0;34m\u001b[0m\n\u001b[1;32m     16\u001b[0m \u001b[0;32mimport\u001b[0m \u001b[0mtensorflow\u001b[0m\u001b[0;34m\u001b[0m\u001b[0;34m\u001b[0m\u001b[0m\n\u001b[1;32m     17\u001b[0m \u001b[0;32mimport\u001b[0m \u001b[0mtensorflow\u001b[0m\u001b[0;34m.\u001b[0m\u001b[0mkeras\u001b[0m\u001b[0;34m\u001b[0m\u001b[0;34m\u001b[0m\u001b[0m\n\u001b[0;32m---> 18\u001b[0;31m \u001b[0;32mfrom\u001b[0m \u001b[0mtensorflow\u001b[0m\u001b[0;34m.\u001b[0m\u001b[0mkeras\u001b[0m\u001b[0;34m.\u001b[0m\u001b[0mapplications\u001b[0m \u001b[0;32mimport\u001b[0m \u001b[0mResNet152\u001b[0m\u001b[0;34m,\u001b[0m \u001b[0mXception\u001b[0m\u001b[0;34m,\u001b[0m\u001b[0mVGG16\u001b[0m\u001b[0;34m,\u001b[0m\u001b[0mEfficientNetB4\u001b[0m\u001b[0;34m\u001b[0m\u001b[0;34m\u001b[0m\u001b[0m\n\u001b[0m\u001b[1;32m     19\u001b[0m \u001b[0;32mfrom\u001b[0m \u001b[0mtensorflow\u001b[0m\u001b[0;34m.\u001b[0m\u001b[0mkeras\u001b[0m\u001b[0;34m.\u001b[0m\u001b[0mmodels\u001b[0m \u001b[0;32mimport\u001b[0m \u001b[0mSequential\u001b[0m\u001b[0;34m,\u001b[0m \u001b[0mModel\u001b[0m\u001b[0;34m\u001b[0m\u001b[0;34m\u001b[0m\u001b[0m\n\u001b[1;32m     20\u001b[0m \u001b[0;31m#from tensorflow.keras.layers import Activation,Dense, Dropout, Flatten, Conv2D, MaxPool2D,AveragePooling2D,GlobalMaxPooling2D\u001b[0m\u001b[0;34m\u001b[0m\u001b[0;34m\u001b[0m\u001b[0;34m\u001b[0m\u001b[0m\n",
      "\u001b[0;31mImportError\u001b[0m: cannot import name 'EfficientNetB4' from 'tensorflow.keras.applications' (/Users/rakibuddin/opt/anaconda3/envs/Deep/lib/python3.7/site-packages/tensorflow_core/python/keras/api/_v2/keras/applications/__init__.py)"
     ]
    }
   ],
   "source": [
    "from numpy.random import seed\n",
    "seed(1)\n",
    "import matplotlib.pyplot as plt\n",
    "import numpy as np\n",
    "import pandas as pd\n",
    "import os\n",
    "from glob import glob\n",
    "import seaborn as sns\n",
    "from PIL import Image\n",
    "from sklearn.preprocessing import label_binarize\n",
    "from sklearn.metrics import confusion_matrix\n",
    "from sklearn.model_selection import GridSearchCV\n",
    "from sklearn.model_selection import train_test_split\n",
    "from sklearn.metrics import f1_score\n",
    "import itertools\n",
    "import tensorflow\n",
    "import tensorflow.keras\n",
    "from tensorflow.keras.applications import ResNet152, Xception,VGG16,EfficientNetB4\n",
    "from tensorflow.keras.models import Sequential, Model\n",
    "#from tensorflow.keras.layers import Activation,Dense, Dropout, Flatten, Conv2D, MaxPool2D,AveragePooling2D,GlobalMaxPooling2D\n",
    "from tensorflow.keras.layers import Activation,Dense, Dropout, Flatten, Conv2D, MaxPool2D,AveragePooling2D,GlobalMaxPooling2D,GlobalAveragePooling2D\n",
    "from tensorflow.keras import backend as K\n",
    "from tensorflow.keras.wrappers.scikit_learn import KerasClassifier\n",
    "from tensorflow.keras import regularizers\n",
    "from tensorflow.keras.optimizers import Adam, SGD\n",
    "from tensorflow.keras.preprocessing.image import ImageDataGenerator\n",
    "from tensorflow.keras.callbacks import ReduceLROnPlateau, EarlyStopping\n",
    "np.random.seed(123)\n",
    "print(\"done\")"
   ]
  },
  {
   "cell_type": "code",
   "execution_count": 3,
   "metadata": {
    "execution": {
     "iopub.execute_input": "2022-09-20T05:23:07.967972Z",
     "iopub.status.busy": "2022-09-20T05:23:07.967054Z",
     "iopub.status.idle": "2022-09-20T05:23:09.301668Z",
     "shell.execute_reply": "2022-09-20T05:23:09.300943Z",
     "shell.execute_reply.started": "2022-09-20T05:23:07.967931Z"
    }
   },
   "outputs": [
    {
     "data": {
      "text/html": [
       "<div>\n",
       "<style scoped>\n",
       "    .dataframe tbody tr th:only-of-type {\n",
       "        vertical-align: middle;\n",
       "    }\n",
       "\n",
       "    .dataframe tbody tr th {\n",
       "        vertical-align: top;\n",
       "    }\n",
       "\n",
       "    .dataframe thead th {\n",
       "        text-align: right;\n",
       "    }\n",
       "</style>\n",
       "<table border=\"1\" class=\"dataframe\">\n",
       "  <thead>\n",
       "    <tr style=\"text-align: right;\">\n",
       "      <th></th>\n",
       "      <th>lesion_id</th>\n",
       "      <th>image_id</th>\n",
       "      <th>dx_type</th>\n",
       "      <th>age</th>\n",
       "      <th>sex</th>\n",
       "      <th>localization</th>\n",
       "      <th>path</th>\n",
       "      <th>cell_type</th>\n",
       "      <th>cell_type_idx</th>\n",
       "    </tr>\n",
       "    <tr>\n",
       "      <th>dx</th>\n",
       "      <th></th>\n",
       "      <th></th>\n",
       "      <th></th>\n",
       "      <th></th>\n",
       "      <th></th>\n",
       "      <th></th>\n",
       "      <th></th>\n",
       "      <th></th>\n",
       "      <th></th>\n",
       "    </tr>\n",
       "  </thead>\n",
       "  <tbody>\n",
       "    <tr>\n",
       "      <th>akiec</th>\n",
       "      <td>327</td>\n",
       "      <td>327</td>\n",
       "      <td>327</td>\n",
       "      <td>327</td>\n",
       "      <td>327</td>\n",
       "      <td>327</td>\n",
       "      <td>327</td>\n",
       "      <td>327</td>\n",
       "      <td>327</td>\n",
       "    </tr>\n",
       "    <tr>\n",
       "      <th>bcc</th>\n",
       "      <td>514</td>\n",
       "      <td>514</td>\n",
       "      <td>514</td>\n",
       "      <td>514</td>\n",
       "      <td>514</td>\n",
       "      <td>514</td>\n",
       "      <td>514</td>\n",
       "      <td>514</td>\n",
       "      <td>514</td>\n",
       "    </tr>\n",
       "    <tr>\n",
       "      <th>bkl</th>\n",
       "      <td>1099</td>\n",
       "      <td>1099</td>\n",
       "      <td>1099</td>\n",
       "      <td>1089</td>\n",
       "      <td>1099</td>\n",
       "      <td>1099</td>\n",
       "      <td>1099</td>\n",
       "      <td>1099</td>\n",
       "      <td>1099</td>\n",
       "    </tr>\n",
       "    <tr>\n",
       "      <th>df</th>\n",
       "      <td>115</td>\n",
       "      <td>115</td>\n",
       "      <td>115</td>\n",
       "      <td>115</td>\n",
       "      <td>115</td>\n",
       "      <td>115</td>\n",
       "      <td>115</td>\n",
       "      <td>115</td>\n",
       "      <td>115</td>\n",
       "    </tr>\n",
       "    <tr>\n",
       "      <th>mel</th>\n",
       "      <td>1113</td>\n",
       "      <td>1113</td>\n",
       "      <td>1113</td>\n",
       "      <td>1111</td>\n",
       "      <td>1113</td>\n",
       "      <td>1113</td>\n",
       "      <td>1113</td>\n",
       "      <td>1113</td>\n",
       "      <td>1113</td>\n",
       "    </tr>\n",
       "    <tr>\n",
       "      <th>nv</th>\n",
       "      <td>6705</td>\n",
       "      <td>6705</td>\n",
       "      <td>6705</td>\n",
       "      <td>6660</td>\n",
       "      <td>6705</td>\n",
       "      <td>6705</td>\n",
       "      <td>6705</td>\n",
       "      <td>6705</td>\n",
       "      <td>6705</td>\n",
       "    </tr>\n",
       "    <tr>\n",
       "      <th>vasc</th>\n",
       "      <td>142</td>\n",
       "      <td>142</td>\n",
       "      <td>142</td>\n",
       "      <td>142</td>\n",
       "      <td>142</td>\n",
       "      <td>142</td>\n",
       "      <td>142</td>\n",
       "      <td>142</td>\n",
       "      <td>142</td>\n",
       "    </tr>\n",
       "  </tbody>\n",
       "</table>\n",
       "</div>"
      ],
      "text/plain": [
       "       lesion_id  image_id  dx_type   age   sex  localization  path  \\\n",
       "dx                                                                    \n",
       "akiec        327       327      327   327   327           327   327   \n",
       "bcc          514       514      514   514   514           514   514   \n",
       "bkl         1099      1099     1099  1089  1099          1099  1099   \n",
       "df           115       115      115   115   115           115   115   \n",
       "mel         1113      1113     1113  1111  1113          1113  1113   \n",
       "nv          6705      6705     6705  6660  6705          6705  6705   \n",
       "vasc         142       142      142   142   142           142   142   \n",
       "\n",
       "       cell_type  cell_type_idx  \n",
       "dx                               \n",
       "akiec        327            327  \n",
       "bcc          514            514  \n",
       "bkl         1099           1099  \n",
       "df           115            115  \n",
       "mel         1113           1113  \n",
       "nv          6705           6705  \n",
       "vasc         142            142  "
      ]
     },
     "execution_count": 3,
     "metadata": {},
     "output_type": "execute_result"
    }
   ],
   "source": [
    "lesion_type_dict = {'akiec': 'Actinic keratoses',\n",
    "                    'bcc': 'Basal cell carcinoma',\n",
    "                    'bkl': 'Benign keratosis-like lesions ',\n",
    "                    'df': 'Dermatofibroma',\n",
    "                    'nv': 'Melanocytic nevi',\n",
    "                    'mel': 'Melanoma',\n",
    "                    'vasc': 'Vascular lesions'}\n",
    "\n",
    "base_skin_dir = os.path.join('..', 'input')\n",
    "imageid_path_dict = {os.path.splitext(os.path.basename(x))[0]: x for x in glob(os.path.join(base_skin_dir, '*','*', '*.jpg'))}\n",
    "skin_df = pd.read_csv('../input/skin-cancer-mnist-ham10000/HAM10000_metadata.csv')\n",
    "skin_df['path'] = skin_df['image_id'].map(imageid_path_dict.get)\n",
    "skin_df['cell_type'] = skin_df['dx'].map(lesion_type_dict.get) \n",
    "skin_df['cell_type_idx'] = pd.Categorical(skin_df['cell_type']).codes\n",
    "skin_df.groupby(['dx']).count()"
   ]
  },
  {
   "cell_type": "code",
   "execution_count": null,
   "metadata": {
    "execution": {
     "iopub.execute_input": "2022-09-20T05:23:18.949554Z",
     "iopub.status.busy": "2022-09-20T05:23:18.949239Z"
    }
   },
   "outputs": [],
   "source": [
    "skin_df['image'] = skin_df['path'].map(lambda x: np.asarray(Image.open(x).resize((75,100))))\n",
    "features=skin_df.drop(columns=['cell_type_idx'],axis=1)\n",
    "target=skin_df['cell_type_idx']"
   ]
  },
  {
   "cell_type": "code",
   "execution_count": null,
   "metadata": {
    "execution": {
     "iopub.execute_input": "2022-05-06T08:41:33.71809Z",
     "iopub.status.busy": "2022-05-06T08:41:33.717849Z",
     "iopub.status.idle": "2022-05-06T08:41:36.227019Z",
     "shell.execute_reply": "2022-05-06T08:41:36.22628Z",
     "shell.execute_reply.started": "2022-05-06T08:41:33.718059Z"
    }
   },
   "outputs": [],
   "source": [
    "from tensorflow.keras.utils import to_categorical\n",
    "x_train_o, x_test_o, y_train_o, y_test_o = train_test_split(features, target, test_size=0.2,random_state=666)\n",
    "x_train = np.asarray(x_train_o['image'].tolist())\n",
    "x_test = np.asarray(x_test_o['image'].tolist())\n",
    "x_train_mean = np.mean(x_train)\n",
    "x_train_std = np.std(x_train)\n",
    "x_test_mean = np.mean(x_test)\n",
    "x_test_std = np.std(x_test)\n",
    "x_train = (x_train - x_train_mean)/x_train_std\n",
    "x_test = (x_test - x_test_mean)/x_test_std\n",
    "y_train = to_categorical(y_train_o, num_classes = 7)\n",
    "y_test = to_categorical(y_test_o, num_classes = 7)\n",
    "x_train, x_validate, y_train, y_validate = train_test_split(x_train, y_train, test_size = 0.1, random_state = 999)"
   ]
  },
  {
   "cell_type": "code",
   "execution_count": null,
   "metadata": {
    "execution": {
     "iopub.execute_input": "2022-05-06T08:41:36.228787Z",
     "iopub.status.busy": "2022-05-06T08:41:36.228545Z",
     "iopub.status.idle": "2022-05-06T08:41:36.23374Z",
     "shell.execute_reply": "2022-05-06T08:41:36.23277Z",
     "shell.execute_reply.started": "2022-05-06T08:41:36.228755Z"
    }
   },
   "outputs": [],
   "source": [
    "#Reshaping the Images into 3 channels (RGB)\n",
    "x_train = x_train.reshape(x_train.shape[0], *(75, 100, 3))\n",
    "x_test = x_test.reshape(x_test.shape[0], *(75, 100, 3))\n",
    "x_validate = x_validate.reshape(x_validate.shape[0], *(75, 100, 3))"
   ]
  },
  {
   "cell_type": "code",
   "execution_count": null,
   "metadata": {
    "execution": {
     "iopub.execute_input": "2022-05-06T08:41:36.235735Z",
     "iopub.status.busy": "2022-05-06T08:41:36.234894Z",
     "iopub.status.idle": "2022-05-06T08:41:36.728325Z",
     "shell.execute_reply": "2022-05-06T08:41:36.727616Z",
     "shell.execute_reply.started": "2022-05-06T08:41:36.235701Z"
    }
   },
   "outputs": [],
   "source": [
    "input_shape = (75, 100, 3)\n",
    "num_classes = 7\n",
    "optimizer = Adam(learning_rate=0.001, beta_1=0.9, beta_2=0.999, epsilon=None, decay=0.0, amsgrad=False)\n",
    "learning_rate_reduction = ReduceLROnPlateau(monitor='val_acc', patience=4, verbose=1, factor=0.5, min_learning_rate=0.00001)\n",
    "\n",
    "#Data Generation\n",
    "datagen = ImageDataGenerator(\n",
    "        featurewise_center=False, \n",
    "        samplewise_center=False, \n",
    "        featurewise_std_normalization=False,\n",
    "        samplewise_std_normalization=False,\n",
    "        zca_whitening=False,\n",
    "        rotation_range=90,\n",
    "        zoom_range = 0.1, \n",
    "        width_shift_range=0.1,\n",
    "        height_shift_range=0.1,\n",
    "        horizontal_flip=True,\n",
    "        vertical_flip=True,\n",
    "        shear_range = 10) \n",
    "datagen.fit(x_train)"
   ]
  },
  {
   "cell_type": "markdown",
   "metadata": {},
   "source": [
    "# ***VGG16 HeadModel_DO***"
   ]
  },
  {
   "cell_type": "code",
   "execution_count": null,
   "metadata": {
    "execution": {
     "iopub.execute_input": "2022-05-06T08:41:36.730056Z",
     "iopub.status.busy": "2022-05-06T08:41:36.729809Z",
     "iopub.status.idle": "2022-05-06T08:41:40.396337Z",
     "shell.execute_reply": "2022-05-06T08:41:40.395633Z",
     "shell.execute_reply.started": "2022-05-06T08:41:36.730024Z"
    }
   },
   "outputs": [],
   "source": [
    "from tensorflow.keras.layers import SpatialDropout2D\n",
    "from tensorflow.keras.layers import BatchNormalization\n",
    "from keras_drop_block import DropBlock2D\n",
    "baseModel = VGG16(weights='imagenet', include_top=False, input_shape=input_shape)\n",
    "headModel = baseModel.output\n",
    "\n",
    "headModel_DO = Dropout(0.5)(headModel)\n",
    "headModel_DO = BatchNormalization()(headModel_DO)\n",
    "headModel_DO = AveragePooling2D()(headModel_DO)\n",
    "headModel_DO = Flatten(name=\"flatten\")(headModel_DO)\n",
    "headModel_DO = Dense(64, activation=\"relu\")(headModel_DO)\n",
    "headModel_DO = Dropout(0.5)(headModel_DO)\n",
    "headModel_DO = Dense(7, activation=\"softmax\")(headModel_DO)\n",
    "model_DO = Model(inputs=baseModel.input, outputs=headModel_DO)\n",
    "\n",
    "for layer in baseModel.layers:\n",
    "    layer.trainable = False\n",
    "    \n",
    "model_DO.summary()"
   ]
  },
  {
   "cell_type": "code",
   "execution_count": null,
   "metadata": {
    "execution": {
     "iopub.execute_input": "2022-05-06T08:48:00.260879Z",
     "iopub.status.busy": "2022-05-06T08:48:00.260362Z",
     "iopub.status.idle": "2022-05-06T09:00:43.471724Z",
     "shell.execute_reply": "2022-05-06T09:00:43.470964Z",
     "shell.execute_reply.started": "2022-05-06T08:48:00.260832Z"
    }
   },
   "outputs": [],
   "source": [
    "model_DO.compile(loss=\"categorical_crossentropy\", optimizer=optimizer,\n",
    "    metrics=[\"accuracy\"])\n",
    "\n",
    "H_DO = model_DO.fit(datagen.flow(x_train,y_train, batch_size=20),\n",
    "                             epochs = 50, validation_data = (x_validate,y_validate), callbacks=[learning_rate_reduction])"
   ]
  },
  {
   "cell_type": "code",
   "execution_count": null,
   "metadata": {
    "execution": {
     "iopub.execute_input": "2022-05-06T09:00:48.533928Z",
     "iopub.status.busy": "2022-05-06T09:00:48.533383Z",
     "iopub.status.idle": "2022-05-06T09:00:57.311153Z",
     "shell.execute_reply": "2022-05-06T09:00:57.310473Z",
     "shell.execute_reply.started": "2022-05-06T09:00:48.533891Z"
    }
   },
   "outputs": [],
   "source": [
    "loss, accuracy = model_DO.evaluate(x_test, y_test, verbose=0)\n",
    "predictions = model_DO.predict(x_test)\n",
    "loss_v, accuracy_v = model_DO.evaluate(x_validate, y_validate, verbose=0)\n",
    "loss_t, accuracy_t = model_DO.evaluate(x_train, y_train, verbose=0)\n",
    "print(\"Training: accuracy = %f\" % (accuracy_t))\n",
    "print(\"Validation: accuracy = %f\" % (accuracy_v))\n",
    "print(\"Test: accuracy = %f\" % (accuracy))"
   ]
  },
  {
   "cell_type": "markdown",
   "metadata": {},
   "source": [
    "# ***VGG16 DB(3)***"
   ]
  },
  {
   "cell_type": "code",
   "execution_count": null,
   "metadata": {
    "execution": {
     "iopub.execute_input": "2022-05-06T09:03:42.117359Z",
     "iopub.status.busy": "2022-05-06T09:03:42.116817Z",
     "iopub.status.idle": "2022-05-06T09:03:42.624891Z",
     "shell.execute_reply": "2022-05-06T09:03:42.624148Z",
     "shell.execute_reply.started": "2022-05-06T09:03:42.117322Z"
    }
   },
   "outputs": [],
   "source": [
    "baseModel = VGG16(weights='imagenet', include_top=False, input_shape=input_shape)\n",
    "headModel = baseModel.output\n",
    "\n",
    "headModel_3 = DropBlock2D(block_size=3, keep_prob=0.5)(headModel)\n",
    "headModel_3 = BatchNormalization()(headModel_3)\n",
    "headModel_3 = AveragePooling2D()(headModel_3)\n",
    "headModel_3 = Flatten(name=\"flatten\")(headModel_3)\n",
    "headModel_3 = Dense(64, activation=\"relu\")(headModel_3)\n",
    "headModel_3 = Dropout(0.5)(headModel_3)\n",
    "headModel_3 = Dense(7, activation=\"softmax\")(headModel_3)\n",
    "model_3 = Model(inputs=baseModel.input, outputs=headModel_3)\n",
    "\n",
    "for layer in baseModel.layers:\n",
    "    layer.trainable = False\n",
    "model_3.summary()"
   ]
  },
  {
   "cell_type": "code",
   "execution_count": null,
   "metadata": {
    "execution": {
     "iopub.execute_input": "2022-05-06T09:04:57.248104Z",
     "iopub.status.busy": "2022-05-06T09:04:57.247848Z",
     "iopub.status.idle": "2022-05-06T09:17:43.801616Z",
     "shell.execute_reply": "2022-05-06T09:17:43.800812Z",
     "shell.execute_reply.started": "2022-05-06T09:04:57.248077Z"
    }
   },
   "outputs": [],
   "source": [
    "\n",
    "model_3.compile(loss=\"categorical_crossentropy\", optimizer=optimizer,\n",
    "    metrics=[\"accuracy\"])\n",
    "H3 = model_3.fit(datagen.flow(x_train,y_train, batch_size=20),\n",
    "                             epochs = 50, validation_data = (x_validate,y_validate), callbacks=[learning_rate_reduction])\n"
   ]
  },
  {
   "cell_type": "code",
   "execution_count": null,
   "metadata": {
    "execution": {
     "iopub.execute_input": "2022-05-06T09:17:50.38545Z",
     "iopub.status.busy": "2022-05-06T09:17:50.38495Z",
     "iopub.status.idle": "2022-05-06T09:17:59.002837Z",
     "shell.execute_reply": "2022-05-06T09:17:59.001992Z",
     "shell.execute_reply.started": "2022-05-06T09:17:50.385401Z"
    }
   },
   "outputs": [],
   "source": [
    "loss, accuracy = model_3.evaluate(x_test, y_test, verbose=0)\n",
    "predictions = model_3.predict(x_test)\n",
    "loss_v, accuracy_v = model_3.evaluate(x_validate, y_validate, verbose=0)\n",
    "loss_t, accuracy_t = model_3.evaluate(x_train, y_train, verbose=0)\n",
    "print(\"Training: accuracy = %f\" % (accuracy_t))\n",
    "print(\"Validation: accuracy = %f\" % (accuracy_v))\n",
    "print(\"Test: accuracy = %f\" % (accuracy))"
   ]
  },
  {
   "cell_type": "markdown",
   "metadata": {},
   "source": [
    "# ***VGG16 DB(5)***"
   ]
  },
  {
   "cell_type": "code",
   "execution_count": null,
   "metadata": {
    "execution": {
     "iopub.execute_input": "2022-05-06T09:19:20.067147Z",
     "iopub.status.busy": "2022-05-06T09:19:20.06689Z",
     "iopub.status.idle": "2022-05-06T09:19:20.381411Z",
     "shell.execute_reply": "2022-05-06T09:19:20.380716Z",
     "shell.execute_reply.started": "2022-05-06T09:19:20.06712Z"
    }
   },
   "outputs": [],
   "source": [
    "\n",
    "baseModel = VGG16(weights='imagenet', include_top=False, input_shape=input_shape)\n",
    "headModel = baseModel.output\n",
    "headModel_5 = DropBlock2D(block_size=5, keep_prob=0.5)(headModel)\n",
    "headModel_5 = BatchNormalization()(headModel_5)\n",
    "headModel_5 = AveragePooling2D()(headModel_5)\n",
    "headModel_5 = Flatten(name=\"flatten\")(headModel_5)\n",
    "headModel_5 = Dense(64, activation=\"relu\")(headModel_5)\n",
    "headModel_5 = Dropout(0.5)(headModel_5)\n",
    "headModel_5 = Dense(7, activation=\"softmax\")(headModel_5)\n",
    "model_5 = Model(inputs=baseModel.input, outputs=headModel_5)\n",
    "\n",
    "model_5.summary()"
   ]
  },
  {
   "cell_type": "code",
   "execution_count": null,
   "metadata": {
    "execution": {
     "iopub.execute_input": "2022-05-06T09:19:25.449282Z",
     "iopub.status.busy": "2022-05-06T09:19:25.448582Z",
     "iopub.status.idle": "2022-05-06T09:35:10.790096Z",
     "shell.execute_reply": "2022-05-06T09:35:10.789483Z",
     "shell.execute_reply.started": "2022-05-06T09:19:25.449244Z"
    }
   },
   "outputs": [],
   "source": [
    "model_5.compile(loss=\"categorical_crossentropy\", optimizer=optimizer,\n",
    "    metrics=[\"accuracy\"])\n",
    "H5 = model_5.fit(datagen.flow(x_train,y_train, batch_size=20),\n",
    "                             epochs = 50, validation_data = (x_validate,y_validate), callbacks=[learning_rate_reduction])\n"
   ]
  },
  {
   "cell_type": "code",
   "execution_count": null,
   "metadata": {
    "execution": {
     "iopub.execute_input": "2022-05-06T09:44:52.680748Z",
     "iopub.status.busy": "2022-05-06T09:44:52.679971Z",
     "iopub.status.idle": "2022-05-06T09:45:01.559914Z",
     "shell.execute_reply": "2022-05-06T09:45:01.559148Z",
     "shell.execute_reply.started": "2022-05-06T09:44:52.680709Z"
    }
   },
   "outputs": [],
   "source": [
    "loss, accuracy = model_5.evaluate(x_test, y_test, verbose=0)\n",
    "predictions = model_5.predict(x_test)\n",
    "loss_v, accuracy_v = model_5.evaluate(x_validate, y_validate, verbose=0)\n",
    "loss_t, accuracy_t = model_5.evaluate(x_train, y_train, verbose=0)\n",
    "print(\"Training: accuracy = %f\" % (accuracy_t))\n",
    "print(\"Validation: accuracy = %f\" % (accuracy_v))\n",
    "print(\"Test: accuracy = %f\" % (accuracy))"
   ]
  },
  {
   "cell_type": "markdown",
   "metadata": {},
   "source": [
    "# ***VGG16 DB(7)***"
   ]
  },
  {
   "cell_type": "code",
   "execution_count": null,
   "metadata": {
    "execution": {
     "iopub.execute_input": "2022-05-06T09:45:04.938412Z",
     "iopub.status.busy": "2022-05-06T09:45:04.93758Z",
     "iopub.status.idle": "2022-05-06T09:45:05.30814Z",
     "shell.execute_reply": "2022-05-06T09:45:05.307439Z",
     "shell.execute_reply.started": "2022-05-06T09:45:04.938367Z"
    }
   },
   "outputs": [],
   "source": [
    "baseModel = VGG16(weights='imagenet', include_top=False, input_shape=input_shape)\n",
    "headModel = baseModel.output\n",
    "headModel_7 = DropBlock2D(block_size=7, keep_prob=0.5)(headModel)\n",
    "headModel_7 = BatchNormalization()(headModel_7)\n",
    "headModel_7 = AveragePooling2D()(headModel_7)\n",
    "headModel_7 = Flatten(name=\"flatten\")(headModel_7)\n",
    "headModel_7 = Dense(64, activation=\"relu\")(headModel_7)\n",
    "headModel_7 = Dropout(0.5)(headModel_7)\n",
    "headModel_7 = Dense(7, activation=\"softmax\")(headModel_7)\n",
    "model_7 = Model(inputs=baseModel.input, outputs=headModel_7)\n",
    "for layer in baseModel.layers:\n",
    "    layer.trainable = False\n",
    "\n",
    "model_7.summary()"
   ]
  },
  {
   "cell_type": "code",
   "execution_count": null,
   "metadata": {
    "execution": {
     "iopub.execute_input": "2022-05-06T09:45:10.201995Z",
     "iopub.status.busy": "2022-05-06T09:45:10.201438Z",
     "iopub.status.idle": "2022-05-06T09:58:05.178136Z",
     "shell.execute_reply": "2022-05-06T09:58:05.177443Z",
     "shell.execute_reply.started": "2022-05-06T09:45:10.201957Z"
    }
   },
   "outputs": [],
   "source": [
    "model_7.compile(loss=\"categorical_crossentropy\", optimizer=optimizer,\n",
    "    metrics=[\"accuracy\"])\n",
    "H7 = model_7.fit(datagen.flow(x_train,y_train, batch_size=20),\n",
    "                             epochs = 50, validation_data = (x_validate,y_validate), callbacks=[learning_rate_reduction])"
   ]
  },
  {
   "cell_type": "code",
   "execution_count": null,
   "metadata": {
    "execution": {
     "iopub.execute_input": "2022-05-06T09:58:40.196202Z",
     "iopub.status.busy": "2022-05-06T09:58:40.195636Z",
     "iopub.status.idle": "2022-05-06T09:58:49.063933Z",
     "shell.execute_reply": "2022-05-06T09:58:49.063152Z",
     "shell.execute_reply.started": "2022-05-06T09:58:40.196165Z"
    }
   },
   "outputs": [],
   "source": [
    "loss, accuracy = model_7.evaluate(x_test, y_test, verbose=0)\n",
    "predictions = model_7.predict(x_test)\n",
    "loss_v, accuracy_v = model_7.evaluate(x_validate, y_validate, verbose=0)\n",
    "loss_t, accuracy_t = model_7.evaluate(x_train, y_train, verbose=0)\n",
    "print(\"Training: accuracy = %f\" % (accuracy_t))\n",
    "print(\"Validation: accuracy = %f\" % (accuracy_v))\n",
    "print(\"Test: accuracy = %f\" % (accuracy))"
   ]
  },
  {
   "cell_type": "markdown",
   "metadata": {},
   "source": [
    "# ***VGG16 SDO***"
   ]
  },
  {
   "cell_type": "code",
   "execution_count": null,
   "metadata": {
    "execution": {
     "iopub.execute_input": "2022-05-06T09:59:51.016713Z",
     "iopub.status.busy": "2022-05-06T09:59:51.016424Z",
     "iopub.status.idle": "2022-05-06T09:59:51.350227Z",
     "shell.execute_reply": "2022-05-06T09:59:51.349507Z",
     "shell.execute_reply.started": "2022-05-06T09:59:51.016682Z"
    }
   },
   "outputs": [],
   "source": [
    "from tensorflow.keras.layers import SpatialDropout2D\n",
    "from tensorflow.keras.layers import BatchNormalization\n",
    "from keras_drop_block import DropBlock2D\n",
    "baseModel = VGG16(weights='imagenet', include_top=False, input_shape=input_shape)\n",
    "headModel = baseModel.output\n",
    "headModel_SDO = SpatialDropout2D(0.5)(headModel)\n",
    "headModel_SDO = BatchNormalization()(headModel_SDO)\n",
    "headModel_SDO = AveragePooling2D()(headModel_SDO)\n",
    "headModel_SDO = Flatten(name=\"flatten\")(headModel_SDO)\n",
    "headModel_SDO = Dense(64, activation=\"relu\")(headModel_SDO)\n",
    "headModel_SDO = Dropout(0.5)(headModel_SDO)\n",
    "headModel_SDO = Dense(7, activation=\"softmax\")(headModel_SDO)\n",
    "model_SDO = Model(inputs=baseModel.input, outputs=headModel_SDO)\n",
    "\n",
    "for layer in baseModel.layers:\n",
    "    layer.trainable = False   \n",
    "\n",
    "model_SDO.summary()"
   ]
  },
  {
   "cell_type": "code",
   "execution_count": null,
   "metadata": {
    "execution": {
     "iopub.execute_input": "2022-05-06T09:59:55.313332Z",
     "iopub.status.busy": "2022-05-06T09:59:55.312761Z",
     "iopub.status.idle": "2022-05-06T10:12:41.395627Z",
     "shell.execute_reply": "2022-05-06T10:12:41.394927Z",
     "shell.execute_reply.started": "2022-05-06T09:59:55.313286Z"
    }
   },
   "outputs": [],
   "source": [
    "model_SDO.compile(loss=\"categorical_crossentropy\", optimizer=optimizer,\n",
    "    metrics=[\"accuracy\"])\n",
    "HSDO = model_SDO.fit(datagen.flow(x_train,y_train, batch_size=20),\n",
    "                             epochs = 50, validation_data = (x_validate,y_validate), callbacks=[learning_rate_reduction])"
   ]
  },
  {
   "cell_type": "code",
   "execution_count": null,
   "metadata": {
    "execution": {
     "iopub.execute_input": "2022-05-06T10:13:27.984081Z",
     "iopub.status.busy": "2022-05-06T10:13:27.983386Z",
     "iopub.status.idle": "2022-05-06T10:13:35.983488Z",
     "shell.execute_reply": "2022-05-06T10:13:35.982726Z",
     "shell.execute_reply.started": "2022-05-06T10:13:27.984043Z"
    }
   },
   "outputs": [],
   "source": [
    "loss, accuracy = model_SDO.evaluate(x_test, y_test, verbose=0)\n",
    "predictions = model_SDO.predict(x_test)\n",
    "loss_v, accuracy_v = model_SDO.evaluate(x_validate, y_validate, verbose=0)\n",
    "loss_t, accuracy_t = model_SDO.evaluate(x_train, y_train, verbose=0)\n",
    "print(\"Training: accuracy = %f\" % (accuracy_t))\n",
    "print(\"Validation: accuracy = %f\" % (accuracy_v))\n",
    "print(\"Test: accuracy = %f\" % (accuracy))"
   ]
  },
  {
   "cell_type": "markdown",
   "metadata": {},
   "source": [
    "# ***Plots***"
   ]
  },
  {
   "cell_type": "code",
   "execution_count": null,
   "metadata": {
    "execution": {
     "iopub.execute_input": "2022-05-06T10:15:33.82072Z",
     "iopub.status.busy": "2022-05-06T10:15:33.819956Z",
     "iopub.status.idle": "2022-05-06T10:15:34.120953Z",
     "shell.execute_reply": "2022-05-06T10:15:34.12014Z",
     "shell.execute_reply.started": "2022-05-06T10:15:33.82068Z"
    }
   },
   "outputs": [],
   "source": [
    "N = 50\n",
    "\n",
    "plt.figure()\n",
    "# plt.plot(np.arange(0, N), H.history[\"accuracy\"], linewidth = 2, label=\"train_acc\")\n",
    "plt.plot(np.arange(0, N), H_DO.history[\"val_accuracy\"], linewidth = 2, label=\"Drop Out\")\n",
    "plt.plot(np.arange(0, N), H3.history[\"val_accuracy\"], linewidth = 2, label=\"Drop block 3\")\n",
    "plt.plot(np.arange(0, N), H5.history[\"val_accuracy\"], linewidth = 2, label=\"Drop block 5\")\n",
    "plt.plot(np.arange(0, N), H7.history[\"val_accuracy\"], linewidth = 2, label=\"Drop block 7\")\n",
    "plt.plot(np.arange(0, N), HSDO.history[\"val_accuracy\"], linewidth = 2, label=\"Spatial Drop out\")\n",
    "\n",
    "plt.title(\"Training and Validation Accuracy \")\n",
    "plt.xlabel(\"Epoch #\")\n",
    "plt.ylabel(\"Accuracy\")\n",
    "plt.legend(loc=\"upper left\")"
   ]
  }
 ],
 "metadata": {
  "kernelspec": {
   "display_name": "Python 3 (ipykernel)",
   "language": "python",
   "name": "python3"
  },
  "language_info": {
   "codemirror_mode": {
    "name": "ipython",
    "version": 3
   },
   "file_extension": ".py",
   "mimetype": "text/x-python",
   "name": "python",
   "nbconvert_exporter": "python",
   "pygments_lexer": "ipython3",
   "version": "3.7.13"
  }
 },
 "nbformat": 4,
 "nbformat_minor": 4
}
